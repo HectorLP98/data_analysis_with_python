{
 "cells": [
  {
   "cell_type": "code",
   "execution_count": 9,
   "id": "a1718075",
   "metadata": {
    "ExecuteTime": {
     "end_time": "2022-08-04T18:19:19.663989Z",
     "start_time": "2022-08-04T18:19:19.254788Z"
    }
   },
   "outputs": [
    {
     "name": "stdout",
     "output_type": "stream",
     "text": [
      "Available Themes: \r\n",
      "   chesterish\r\n",
      "   grade3\r\n",
      "   gruvboxd\r\n",
      "   gruvboxl\r\n",
      "   monokai\r\n",
      "   oceans16\r\n",
      "   onedork\r\n",
      "   solarizedd\r\n",
      "   solarizedl\r\n"
     ]
    }
   ],
   "source": [
    "!jt -l "
   ]
  },
  {
   "cell_type": "code",
   "execution_count": 10,
   "id": "f48d8517",
   "metadata": {
    "ExecuteTime": {
     "end_time": "2022-08-04T18:19:27.302091Z",
     "start_time": "2022-08-04T18:19:26.712777Z"
    }
   },
   "outputs": [
    {
     "name": "stdout",
     "output_type": "stream",
     "text": [
      "Didn't recognize theme name: None\r\n",
      "Available Themes: \r\n",
      "   chesterish\r\n",
      "   grade3\r\n",
      "   gruvboxd\r\n",
      "   gruvboxl\r\n",
      "   monokai\r\n",
      "   oceans16\r\n",
      "   onedork\r\n",
      "   solarizedd\r\n",
      "   solarizedl\r\n"
     ]
    }
   ],
   "source": [
    "!jt -t chesterish -T -N -kl  "
   ]
  },
  {
   "cell_type": "code",
   "execution_count": 73,
   "id": "b08ad81e",
   "metadata": {
    "ExecuteTime": {
     "end_time": "2022-08-04T21:33:39.764369Z",
     "start_time": "2022-08-04T21:33:39.750479Z"
    }
   },
   "outputs": [],
   "source": [
    "import pandas as pd "
   ]
  },
  {
   "cell_type": "code",
   "execution_count": 74,
   "id": "a77f287f",
   "metadata": {
    "ExecuteTime": {
     "end_time": "2022-08-04T21:33:43.358759Z",
     "start_time": "2022-08-04T21:33:42.670327Z"
    }
   },
   "outputs": [
    {
     "name": "stdout",
     "output_type": "stream",
     "text": [
      "<class 'pandas.core.frame.DataFrame'>\n",
      "RangeIndex: 32561 entries, 0 to 32560\n",
      "Data columns (total 15 columns):\n",
      " #   Column          Non-Null Count  Dtype \n",
      "---  ------          --------------  ----- \n",
      " 0   age             32561 non-null  int64 \n",
      " 1   workclass       32561 non-null  object\n",
      " 2   fnlwgt          32561 non-null  int64 \n",
      " 3   education       32561 non-null  object\n",
      " 4   education-num   32561 non-null  int64 \n",
      " 5   marital-status  32561 non-null  object\n",
      " 6   occupation      32561 non-null  object\n",
      " 7   relationship    32561 non-null  object\n",
      " 8   race            32561 non-null  object\n",
      " 9   sex             32561 non-null  object\n",
      " 10  capital-gain    32561 non-null  int64 \n",
      " 11  capital-loss    32561 non-null  int64 \n",
      " 12  hours-per-week  32561 non-null  int64 \n",
      " 13  native-country  32561 non-null  object\n",
      " 14  salary          32561 non-null  object\n",
      "dtypes: int64(6), object(9)\n",
      "memory usage: 3.7+ MB\n"
     ]
    }
   ],
   "source": [
    "df = pd.read_csv('adult.data.csv')\n",
    "#print(df.head(3))\n",
    "df.info()"
   ]
  },
  {
   "cell_type": "code",
   "execution_count": 26,
   "id": "fd4120c2",
   "metadata": {
    "ExecuteTime": {
     "end_time": "2022-08-04T18:59:38.356395Z",
     "start_time": "2022-08-04T18:59:38.349922Z"
    }
   },
   "outputs": [
    {
     "data": {
      "text/plain": [
       "(32561, 15)"
      ]
     },
     "execution_count": 26,
     "metadata": {},
     "output_type": "execute_result"
    }
   ],
   "source": [
    "df.shape"
   ]
  },
  {
   "cell_type": "code",
   "execution_count": 24,
   "id": "3f89496f",
   "metadata": {
    "ExecuteTime": {
     "end_time": "2022-08-04T18:34:41.341573Z",
     "start_time": "2022-08-04T18:34:41.332788Z"
    }
   },
   "outputs": [
    {
     "data": {
      "text/plain": [
       "array(['<=50K', '>50K'], dtype=object)"
      ]
     },
     "execution_count": 24,
     "metadata": {},
     "output_type": "execute_result"
    }
   ],
   "source": [
    "df['salary'].unique()"
   ]
  },
  {
   "cell_type": "markdown",
   "id": "6e652f01",
   "metadata": {
    "lang": "en"
   },
   "source": [
    "# How many of each race are represented in this dataset? This should be a Pandas series with race names as the index labels.\n"
   ]
  },
  {
   "cell_type": "markdown",
   "id": "7b5e2e40",
   "metadata": {
    "lang": "es"
   },
   "source": [
    "# ¿Cuántos de cada raza están representados en este conjunto de datos? Esta debería ser una serie de Pandas con nombres de carreras como etiquetas de índice."
   ]
  },
  {
   "cell_type": "code",
   "execution_count": 13,
   "id": "016c1b4a",
   "metadata": {
    "ExecuteTime": {
     "end_time": "2022-08-04T18:22:13.603985Z",
     "start_time": "2022-08-04T18:22:13.593909Z"
    }
   },
   "outputs": [
    {
     "data": {
      "text/plain": [
       "pandas.core.series.Series"
      ]
     },
     "execution_count": 13,
     "metadata": {},
     "output_type": "execute_result"
    }
   ],
   "source": [
    "race_count = df.race.value_counts()\n",
    "type(race_count)"
   ]
  },
  {
   "cell_type": "code",
   "execution_count": 17,
   "id": "94b59a8b",
   "metadata": {
    "ExecuteTime": {
     "end_time": "2022-08-04T18:50:13.656116Z",
     "start_time": "2022-08-04T18:50:13.635368Z"
    }
   },
   "outputs": [
    {
     "data": {
      "text/plain": [
       "float"
      ]
     },
     "execution_count": 17,
     "metadata": {},
     "output_type": "execute_result"
    }
   ],
   "source": [
    "# What is the average age of men?\n",
    "men = df.age[df.sex == 'Male'].mean()\n",
    "average_age_men = round(df.age[df.sex == 'Male'].mean(),1)\n",
    "type(average_age_men)"
   ]
  },
  {
   "cell_type": "code",
   "execution_count": 5,
   "id": "2b9cbaaa",
   "metadata": {
    "ExecuteTime": {
     "end_time": "2022-08-04T18:41:35.681132Z",
     "start_time": "2022-08-04T18:41:35.665111Z"
    }
   },
   "outputs": [
    {
     "data": {
      "text/plain": [
       "16.4"
      ]
     },
     "execution_count": 5,
     "metadata": {},
     "output_type": "execute_result"
    }
   ],
   "source": [
    "\n",
    "# What is the percentage of people who have a Bachelor's degree?\n",
    "total = df.education.count()\n",
    "\n",
    "percentage_bachelors = round(100* df.education[df.education == 'Bachelors'].count() / total, 1)\n",
    "\n",
    "percentage_bachelors"
   ]
  },
  {
   "cell_type": "markdown",
   "id": "cc84a2ca",
   "metadata": {
    "lang": "en"
   },
   "source": [
    "\n",
    "# What percentage of people with advanced education (`Bachelors`, `Masters`, or `Doctorate`) make more than 50K?\n",
    "# What percentage of people without advanced education make more than 50K?\n",
    "\n",
    "# with and without `Bachelors`, `Masters`, or `Doctorate`"
   ]
  },
  {
   "cell_type": "markdown",
   "id": "946d0a82",
   "metadata": {
    "lang": "es"
   },
   "source": [
    "# ¿Qué porcentaje de personas con educación avanzada (`licenciatura`, `maestría` o `doctorado`) ganan más de 50K?\n",
    "# ¿Qué porcentaje de personas sin educación avanzada ganan más de 50K?\n",
    "\n",
    "# con y sin `Licenciatura`, `Maestría` o `Doctorado`"
   ]
  },
  {
   "cell_type": "code",
   "execution_count": 16,
   "id": "245d24d6",
   "metadata": {
    "ExecuteTime": {
     "end_time": "2022-08-04T18:44:33.888212Z",
     "start_time": "2022-08-04T18:44:33.847350Z"
    }
   },
   "outputs": [
    {
     "data": {
      "text/plain": [
       "age               12.3\n",
       "workclass         12.3\n",
       "fnlwgt            12.3\n",
       "education         12.3\n",
       "education-num     12.3\n",
       "marital-status    12.3\n",
       "occupation        12.3\n",
       "relationship      12.3\n",
       "race              12.3\n",
       "sex               12.3\n",
       "capital-gain      12.3\n",
       "capital-loss      12.3\n",
       "hours-per-week    12.3\n",
       "native-country    12.3\n",
       "salary            12.3\n",
       "dtype: float64"
      ]
     },
     "execution_count": 16,
     "metadata": {},
     "output_type": "execute_result"
    }
   ],
   "source": [
    "\n",
    "\n",
    "\n",
    "\n",
    "\n",
    "higher_education = round(100* df.education[((df.education == 'Bachelors') | (df.education =='Masters') | (df.education == 'Doctorate')) & (df.salary == '<=50K')].count() / total, 1)\n",
    "lower_education = None\n",
    "higher_education"
   ]
  },
  {
   "cell_type": "code",
   "execution_count": 24,
   "id": "5012e42c",
   "metadata": {
    "ExecuteTime": {
     "end_time": "2022-08-04T18:59:18.502713Z",
     "start_time": "2022-08-04T18:59:18.487379Z"
    }
   },
   "outputs": [
    {
     "data": {
      "text/plain": [
       "(7491, 15)"
      ]
     },
     "execution_count": 24,
     "metadata": {},
     "output_type": "execute_result"
    }
   ],
   "source": [
    "df1 = df[((df.education == 'Bachelors') | (df.education =='Masters') | (df.education == 'Doctorate'))]\n",
    "df1.shape"
   ]
  },
  {
   "cell_type": "code",
   "execution_count": 43,
   "id": "6cc8c542",
   "metadata": {
    "ExecuteTime": {
     "end_time": "2022-08-04T20:24:12.892077Z",
     "start_time": "2022-08-04T20:24:12.835435Z"
    }
   },
   "outputs": [
    {
     "data": {
      "text/plain": [
       "46.5"
      ]
     },
     "execution_count": 43,
     "metadata": {},
     "output_type": "execute_result"
    }
   ],
   "source": [
    "\n",
    "# percentage with salary >50Kdf1 = df[((df.education == 'Bachelors') | (df.education =='Masters') | (df.education == 'Doctorate'))]\n",
    "total_high_education = df1.salary.count()\n",
    "higher_education_rich = round(100*df1.education[df1.salary == '>50K'].count() / total_high_education, 1)\n",
    "higher_education_rich \n"
   ]
  },
  {
   "cell_type": "code",
   "execution_count": 48,
   "id": "28b0f11b",
   "metadata": {
    "ExecuteTime": {
     "end_time": "2022-08-04T20:33:31.750705Z",
     "start_time": "2022-08-04T20:33:31.630094Z"
    },
    "scrolled": true
   },
   "outputs": [
    {
     "data": {
      "text/plain": [
       "17.4"
      ]
     },
     "execution_count": 48,
     "metadata": {},
     "output_type": "execute_result"
    }
   ],
   "source": [
    "df2 = df[~((df.education == 'Bachelors') | (df.education =='Masters') | (df.education == 'Doctorate'))]\n",
    "total_low_education = (total - total_high_education)\n",
    "lower_education_rich = round(100 * df2.salary[df2.salary == '>50K'].count() / total_low_education  ,1)\n",
    "lower_education_rich"
   ]
  },
  {
   "cell_type": "code",
   "execution_count": 49,
   "id": "1a4be67a",
   "metadata": {
    "ExecuteTime": {
     "end_time": "2022-08-04T20:35:22.572235Z",
     "start_time": "2022-08-04T20:35:22.481157Z"
    }
   },
   "outputs": [
    {
     "data": {
      "text/html": [
       "<div>\n",
       "<style scoped>\n",
       "    .dataframe tbody tr th:only-of-type {\n",
       "        vertical-align: middle;\n",
       "    }\n",
       "\n",
       "    .dataframe tbody tr th {\n",
       "        vertical-align: top;\n",
       "    }\n",
       "\n",
       "    .dataframe thead th {\n",
       "        text-align: right;\n",
       "    }\n",
       "</style>\n",
       "<table border=\"1\" class=\"dataframe\">\n",
       "  <thead>\n",
       "    <tr style=\"text-align: right;\">\n",
       "      <th></th>\n",
       "      <th>age</th>\n",
       "      <th>workclass</th>\n",
       "      <th>fnlwgt</th>\n",
       "      <th>education</th>\n",
       "      <th>education-num</th>\n",
       "      <th>marital-status</th>\n",
       "      <th>occupation</th>\n",
       "      <th>relationship</th>\n",
       "      <th>race</th>\n",
       "      <th>sex</th>\n",
       "      <th>capital-gain</th>\n",
       "      <th>capital-loss</th>\n",
       "      <th>hours-per-week</th>\n",
       "      <th>native-country</th>\n",
       "      <th>salary</th>\n",
       "    </tr>\n",
       "  </thead>\n",
       "  <tbody>\n",
       "    <tr>\n",
       "      <th>0</th>\n",
       "      <td>39</td>\n",
       "      <td>State-gov</td>\n",
       "      <td>77516</td>\n",
       "      <td>Bachelors</td>\n",
       "      <td>13</td>\n",
       "      <td>Never-married</td>\n",
       "      <td>Adm-clerical</td>\n",
       "      <td>Not-in-family</td>\n",
       "      <td>White</td>\n",
       "      <td>Male</td>\n",
       "      <td>2174</td>\n",
       "      <td>0</td>\n",
       "      <td>40</td>\n",
       "      <td>United-States</td>\n",
       "      <td>&lt;=50K</td>\n",
       "    </tr>\n",
       "    <tr>\n",
       "      <th>1</th>\n",
       "      <td>50</td>\n",
       "      <td>Self-emp-not-inc</td>\n",
       "      <td>83311</td>\n",
       "      <td>Bachelors</td>\n",
       "      <td>13</td>\n",
       "      <td>Married-civ-spouse</td>\n",
       "      <td>Exec-managerial</td>\n",
       "      <td>Husband</td>\n",
       "      <td>White</td>\n",
       "      <td>Male</td>\n",
       "      <td>0</td>\n",
       "      <td>0</td>\n",
       "      <td>13</td>\n",
       "      <td>United-States</td>\n",
       "      <td>&lt;=50K</td>\n",
       "    </tr>\n",
       "  </tbody>\n",
       "</table>\n",
       "</div>"
      ],
      "text/plain": [
       "   age         workclass  fnlwgt  education  education-num  \\\n",
       "0   39         State-gov   77516  Bachelors             13   \n",
       "1   50  Self-emp-not-inc   83311  Bachelors             13   \n",
       "\n",
       "       marital-status       occupation   relationship   race   sex  \\\n",
       "0       Never-married     Adm-clerical  Not-in-family  White  Male   \n",
       "1  Married-civ-spouse  Exec-managerial        Husband  White  Male   \n",
       "\n",
       "   capital-gain  capital-loss  hours-per-week native-country salary  \n",
       "0          2174             0              40  United-States  <=50K  \n",
       "1             0             0              13  United-States  <=50K  "
      ]
     },
     "execution_count": 49,
     "metadata": {},
     "output_type": "execute_result"
    }
   ],
   "source": [
    "df.head(2)"
   ]
  },
  {
   "cell_type": "code",
   "execution_count": 51,
   "id": "7ab39374",
   "metadata": {
    "ExecuteTime": {
     "end_time": "2022-08-04T20:36:52.480625Z",
     "start_time": "2022-08-04T20:36:52.431596Z"
    }
   },
   "outputs": [
    {
     "data": {
      "text/plain": [
       "1"
      ]
     },
     "execution_count": 51,
     "metadata": {},
     "output_type": "execute_result"
    }
   ],
   "source": [
    "# What is the minimum number of hours a person works per week (hours-per-week feature)?\n",
    "min_work_hours = df['hours-per-week'].min()\n",
    "min_work_hours"
   ]
  },
  {
   "cell_type": "code",
   "execution_count": 68,
   "id": "631ec40b",
   "metadata": {
    "ExecuteTime": {
     "end_time": "2022-08-04T20:50:21.221930Z",
     "start_time": "2022-08-04T20:50:21.160988Z"
    }
   },
   "outputs": [
    {
     "data": {
      "text/plain": [
       "10.0"
      ]
     },
     "execution_count": 68,
     "metadata": {},
     "output_type": "execute_result"
    }
   ],
   "source": [
    "# What percentage of the people who work the minimum number of hours per week have a salary of >50K?\n",
    "\n",
    "total_rich = df[df['hours-per-week'] == df['hours-per-week'].min()].salary.count()\n",
    "num_min_workers = df.salary[(df.salary == '>50K') & (df['hours-per-week'] == 1)].count() \n",
    "rich_percentage = round(100 * num_min_workers / total_rich , 1)\n",
    "rich_percentage"
   ]
  },
  {
   "cell_type": "code",
   "execution_count": 121,
   "id": "a1a92ed4",
   "metadata": {
    "ExecuteTime": {
     "end_time": "2022-08-04T22:29:03.708046Z",
     "start_time": "2022-08-04T22:29:03.683414Z"
    }
   },
   "outputs": [
    {
     "data": {
      "text/plain": [
       "('Iran', 41.9)"
      ]
     },
     "execution_count": 121,
     "metadata": {},
     "output_type": "execute_result"
    }
   ],
   "source": [
    "\n",
    "p = df[df['salary'] == '>50K']['native-country'].value_counts() / df['native-country'].value_counts()\n",
    "p.sort_values(ascending=False, inplace=True)\n",
    "highest_earning_country = p.head(1).index[0]\n",
    "highest_earning_country_percentage = round(100 * p.head(1).values[0], 1)\n",
    "\n",
    "highest_earning_country, highest_earning_country_percentage"
   ]
  },
  {
   "cell_type": "code",
   "execution_count": 100,
   "id": "2cf1289c",
   "metadata": {
    "ExecuteTime": {
     "end_time": "2022-08-04T22:08:16.670829Z",
     "start_time": "2022-08-04T22:08:16.637682Z"
    }
   },
   "outputs": [
    {
     "data": {
      "text/plain": [
       "United-States    91.5\n",
       "Name: native-country, dtype: float64"
      ]
     },
     "execution_count": 100,
     "metadata": {},
     "output_type": "execute_result"
    }
   ],
   "source": [
    "# What country has the highest percentage of people that earn >50K?\n",
    "total_country = df[df.salary == '>50K'].salary.count()\n",
    "highest_earning_country = df[df.salary == '>50K']['native-country'].value_counts().head(1).index.values[0]\n",
    "highest_earning_country_percentage = round(df[df.salary == '>50K']['native-country'].value_counts().head(1) / total_country *100,1)\n",
    "highest_earning_country_percentage"
   ]
  },
  {
   "cell_type": "code",
   "execution_count": 104,
   "id": "2d5fbf1a",
   "metadata": {
    "ExecuteTime": {
     "end_time": "2022-08-04T22:08:45.320318Z",
     "start_time": "2022-08-04T22:08:45.313841Z"
    }
   },
   "outputs": [
    {
     "data": {
      "text/plain": [
       "91.5"
      ]
     },
     "execution_count": 104,
     "metadata": {},
     "output_type": "execute_result"
    }
   ],
   "source": [
    "highest_earning_country_percentage.values[0]\n"
   ]
  },
  {
   "cell_type": "code",
   "execution_count": 122,
   "id": "0e736d8b",
   "metadata": {
    "ExecuteTime": {
     "end_time": "2022-08-04T22:30:51.370323Z",
     "start_time": "2022-08-04T22:30:51.346859Z"
    }
   },
   "outputs": [
    {
     "data": {
      "text/html": [
       "<div>\n",
       "<style scoped>\n",
       "    .dataframe tbody tr th:only-of-type {\n",
       "        vertical-align: middle;\n",
       "    }\n",
       "\n",
       "    .dataframe tbody tr th {\n",
       "        vertical-align: top;\n",
       "    }\n",
       "\n",
       "    .dataframe thead th {\n",
       "        text-align: right;\n",
       "    }\n",
       "</style>\n",
       "<table border=\"1\" class=\"dataframe\">\n",
       "  <thead>\n",
       "    <tr style=\"text-align: right;\">\n",
       "      <th></th>\n",
       "      <th>age</th>\n",
       "      <th>workclass</th>\n",
       "      <th>fnlwgt</th>\n",
       "      <th>education</th>\n",
       "      <th>education-num</th>\n",
       "      <th>marital-status</th>\n",
       "      <th>occupation</th>\n",
       "      <th>relationship</th>\n",
       "      <th>race</th>\n",
       "      <th>sex</th>\n",
       "      <th>capital-gain</th>\n",
       "      <th>capital-loss</th>\n",
       "      <th>hours-per-week</th>\n",
       "      <th>native-country</th>\n",
       "      <th>salary</th>\n",
       "    </tr>\n",
       "  </thead>\n",
       "  <tbody>\n",
       "    <tr>\n",
       "      <th>0</th>\n",
       "      <td>39</td>\n",
       "      <td>State-gov</td>\n",
       "      <td>77516</td>\n",
       "      <td>Bachelors</td>\n",
       "      <td>13</td>\n",
       "      <td>Never-married</td>\n",
       "      <td>Adm-clerical</td>\n",
       "      <td>Not-in-family</td>\n",
       "      <td>White</td>\n",
       "      <td>Male</td>\n",
       "      <td>2174</td>\n",
       "      <td>0</td>\n",
       "      <td>40</td>\n",
       "      <td>United-States</td>\n",
       "      <td>&lt;=50K</td>\n",
       "    </tr>\n",
       "    <tr>\n",
       "      <th>1</th>\n",
       "      <td>50</td>\n",
       "      <td>Self-emp-not-inc</td>\n",
       "      <td>83311</td>\n",
       "      <td>Bachelors</td>\n",
       "      <td>13</td>\n",
       "      <td>Married-civ-spouse</td>\n",
       "      <td>Exec-managerial</td>\n",
       "      <td>Husband</td>\n",
       "      <td>White</td>\n",
       "      <td>Male</td>\n",
       "      <td>0</td>\n",
       "      <td>0</td>\n",
       "      <td>13</td>\n",
       "      <td>United-States</td>\n",
       "      <td>&lt;=50K</td>\n",
       "    </tr>\n",
       "    <tr>\n",
       "      <th>2</th>\n",
       "      <td>38</td>\n",
       "      <td>Private</td>\n",
       "      <td>215646</td>\n",
       "      <td>HS-grad</td>\n",
       "      <td>9</td>\n",
       "      <td>Divorced</td>\n",
       "      <td>Handlers-cleaners</td>\n",
       "      <td>Not-in-family</td>\n",
       "      <td>White</td>\n",
       "      <td>Male</td>\n",
       "      <td>0</td>\n",
       "      <td>0</td>\n",
       "      <td>40</td>\n",
       "      <td>United-States</td>\n",
       "      <td>&lt;=50K</td>\n",
       "    </tr>\n",
       "  </tbody>\n",
       "</table>\n",
       "</div>"
      ],
      "text/plain": [
       "   age         workclass  fnlwgt  education  education-num  \\\n",
       "0   39         State-gov   77516  Bachelors             13   \n",
       "1   50  Self-emp-not-inc   83311  Bachelors             13   \n",
       "2   38           Private  215646    HS-grad              9   \n",
       "\n",
       "       marital-status         occupation   relationship   race   sex  \\\n",
       "0       Never-married       Adm-clerical  Not-in-family  White  Male   \n",
       "1  Married-civ-spouse    Exec-managerial        Husband  White  Male   \n",
       "2            Divorced  Handlers-cleaners  Not-in-family  White  Male   \n",
       "\n",
       "   capital-gain  capital-loss  hours-per-week native-country salary  \n",
       "0          2174             0              40  United-States  <=50K  \n",
       "1             0             0              13  United-States  <=50K  \n",
       "2             0             0              40  United-States  <=50K  "
      ]
     },
     "execution_count": 122,
     "metadata": {},
     "output_type": "execute_result"
    }
   ],
   "source": [
    "df.head(3)"
   ]
  },
  {
   "cell_type": "code",
   "execution_count": 126,
   "id": "49f27f90",
   "metadata": {
    "ExecuteTime": {
     "end_time": "2022-08-04T22:32:44.077256Z",
     "start_time": "2022-08-04T22:32:44.064801Z"
    }
   },
   "outputs": [
    {
     "data": {
      "text/plain": [
       "'Prof-specialty'"
      ]
     },
     "execution_count": 126,
     "metadata": {},
     "output_type": "execute_result"
    }
   ],
   "source": [
    "\n",
    "\n",
    "\n",
    "\n",
    "\n",
    "\n",
    "\n",
    "\n",
    "\n",
    "\n",
    "# Identify the most popular occupation for those who earn >50K in India.\n",
    "top_IN_occupation = df[(df['native-country']=='India') & (df.salary == '>50K')].occupation.value_counts().head(1).index[0]\n",
    "top_IN_occupation"
   ]
  },
  {
   "cell_type": "code",
   "execution_count": null,
   "id": "50264ac4",
   "metadata": {},
   "outputs": [],
   "source": []
  }
 ],
 "metadata": {
  "hide_input": false,
  "kernelspec": {
   "display_name": "Python 3 (ipykernel)",
   "language": "python",
   "name": "python3"
  },
  "language_info": {
   "codemirror_mode": {
    "name": "ipython",
    "version": 3
   },
   "file_extension": ".py",
   "mimetype": "text/x-python",
   "name": "python",
   "nbconvert_exporter": "python",
   "pygments_lexer": "ipython3",
   "version": "3.9.12"
  },
  "latex_envs": {
   "LaTeX_envs_menu_present": true,
   "autoclose": false,
   "autocomplete": true,
   "bibliofile": "biblio.bib",
   "cite_by": "apalike",
   "current_citInitial": 1,
   "eqLabelWithNumbers": true,
   "eqNumInitial": 1,
   "hotkeys": {
    "equation": "Ctrl-E",
    "itemize": "Ctrl-I"
   },
   "labels_anchors": false,
   "latex_user_defs": false,
   "report_style_numbering": false,
   "user_envs_cfg": false
  },
  "nbTranslate": {
   "displayLangs": [
    "en",
    "es"
   ],
   "hotkey": "alt-t",
   "langInMainMenu": true,
   "sourceLang": "en",
   "targetLang": "es",
   "useGoogleTranslate": true
  },
  "toc": {
   "base_numbering": 1,
   "nav_menu": {},
   "number_sections": true,
   "sideBar": true,
   "skip_h1_title": false,
   "title_cell": "Table of Contents",
   "title_sidebar": "Contents",
   "toc_cell": false,
   "toc_position": {},
   "toc_section_display": true,
   "toc_window_display": false
  },
  "varInspector": {
   "cols": {
    "lenName": 16,
    "lenType": 16,
    "lenVar": 40
   },
   "kernels_config": {
    "python": {
     "delete_cmd_postfix": "",
     "delete_cmd_prefix": "del ",
     "library": "var_list.py",
     "varRefreshCmd": "print(var_dic_list())"
    },
    "r": {
     "delete_cmd_postfix": ") ",
     "delete_cmd_prefix": "rm(",
     "library": "var_list.r",
     "varRefreshCmd": "cat(var_dic_list()) "
    }
   },
   "types_to_exclude": [
    "module",
    "function",
    "builtin_function_or_method",
    "instance",
    "_Feature"
   ],
   "window_display": false
  }
 },
 "nbformat": 4,
 "nbformat_minor": 5
}
